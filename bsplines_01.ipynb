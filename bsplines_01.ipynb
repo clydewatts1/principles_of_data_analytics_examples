{
 "cells": [
  {
   "cell_type": "markdown",
   "metadata": {},
   "source": []
  },
  {
   "cell_type": "markdown",
   "metadata": {},
   "source": [
    "- https://colab.research.google.com/github/caiociardelli/sphglltools/blob/main/doc/1_B_splines.ipynb#scrollTo=rDl0FMECh_lc\n",
    "\n",
    "Basis splines (*B-splines*) are commonly used as basis functions to fit data sets smoothly. Just like polynomials, they can have any degree from zero to infinity. Cubic *B-splines* are the most used as they present a compromise between smoothness and flexibility.\n",
    "<br>\n",
    "<br>\n",
    "Besides the degree, the number and position of the knots define the b-spline curves:\n",
    "<br>\n",
    "<br>\n",
    "\\begin{split}\n",
    "  B_{k,\\,0}&\n",
    "  \\,=\\,\n",
    "  \\begin{cases}\n",
    "    1\\qquad \\text{if}\\qquad t_k \\,\\le\\, x\\, <\\, t_{k\\,+\\,1}\\\\\n",
    "    0\\qquad \\text{otherwise}  \n",
    "  \\end{cases}\\\\\\\\\n",
    "  B_{k,\\,n}&\n",
    "  \\,=\\,\\frac{x\\,-\\,t_k}{t_{k\\,+\\,n}\\,-\\,t_i}B_{k,\\,n\\,-\\,1}(x)\n",
    "  \\,+\\,\\frac{t_{k\\,+\\,n\\,+\\,1}\\,-\\,x}{t_{k\\,+\\,n\\,+\\,1}\\,-\\,t_{k\\,+\\,1}}B_{k\\,+\\,1,\\,n\\,-\\,1}(x)\n",
    "\\end{split}\n",
    "<br>\n",
    "<br>"
   ]
  },
  {
   "cell_type": "markdown",
   "metadata": {},
   "source": [
    "= BSPLINES =\n",
    "\n",
    "\n",
    "- **B-splines** are piecewise polynomial functions that are used in computer graphics, data fitting, and numerical analysis. They are defined by a set of control points and a degree, which determines the polynomial degree of the pieces. B-splines have several useful properties, such as local control, smoothness, and the ability to represent complex shapes with a small number of control points.\n",
    "\n",
    "== References ==\n",
    "- https://en.wikipedia.org/wiki/B-spline\n",
    "- https://en.wikipedia.org/wiki/B-spline#Properties\n",
    "- https://en.wikipedia.org/wiki/B-spline#Definition\n",
    "- https://en.wikipedia.org/wiki/B-spline#Degree\n",
    "- https://en.wikipedia.org/wiki/B-spline#Knot_vector\n",
    "- https://en.wikipedia.org/wiki/B-spline#B-spline_basis_functions"
   ]
  },
  {
   "cell_type": "code",
   "execution_count": 1,
   "metadata": {},
   "outputs": [],
   "source": [
    "import numpy as np\n",
    "import matplotlib.pyplot as plt\n",
    "import seaborn as sns\n",
    "import pandas as pd"
   ]
  },
  {
   "cell_type": "markdown",
   "metadata": {},
   "source": [
    "The initial object is to desplay the B-spline as a formula. Build it up in a recurse manner. The first step is to define the B-spline function. The B-spline function is defined recursively, with the base case being a piecewise constant function. The recursive case is defined using the formula for B-splines, which involves linear combinations of the B-spline basis functions. The knot vector is also defined in this step."
   ]
  },
  {
   "cell_type": "code",
   "execution_count": null,
   "metadata": {},
   "outputs": [
    {
     "name": "stdout",
     "output_type": "stream",
     "text": [
      "knot vector:  [0 1 2 3 4 5]\n",
      "control points:  [1 1 1 1 1 1]\n"
     ]
    }
   ],
   "source": [
    "# knot vector\n",
    "knot_vector = np.array([0,1,2,3,4,5])\n",
    "# control points\n",
    "control_points = np.array([1,1,1,1,1,1])\n",
    "# degree of the spline\n",
    "degree = 0\n",
    "print(\"knot vector: \", knot_vector)\n",
    "print(\"control points: \", control_points)"
   ]
  },
  {
   "cell_type": "code",
   "execution_count": 57,
   "metadata": {},
   "outputs": [],
   "source": [
    "def Bstr(degree, knot_vector, knot_number):\n",
    "    \"\"\"\n",
    "    Function to generate the B spline formaula for a given degree, knot vector and knot number.\n",
    "    \"\"\"\n",
    "    range_str = \"?\"\n",
    "    b_spline_formula = \"\"\n",
    "    b_spline_formula_basic = \"\"\n",
    "    if degree == 0:\n",
    "        # Range condition\n",
    "        range_str = f\"{knot_vector[knot_number]} <= x < {knot_vector[knot_number + 1]}\"\n",
    "        # B-spline formula for degree 0\n",
    "        b_spline_formula = f\"B[{degree}][{knot_number}] = 1 if {range_str} else 0\"\n",
    "        b_spline_formula_basic = f\"1\" # valid for range \n",
    "    else:\n",
    "        # Range condition for higher degrees (not implemented in this example)\n",
    "        prev_range_str, prev_b_spline_formula , prev_b_spline_formula_basic \\\n",
    "            = Bstr(degree - 1, knot_vector, knot_number)\n",
    "        range_str = prev_range_str\n",
    "        Bip_1_range,Bip_1_ext,Bip_1 = Bstr(degree - 1, knot_vector, knot_number)\n",
    "        Bi1p_1_range,Bi1p_1_ext,Bi1p_1 = Bstr(degree - 1, knot_vector, knot_number+1)\n",
    "        # x - ti / (ti+p - ti) * Bi,p-1\n",
    "        x = 'x'\n",
    "        ti = knot_vector[knot_number]\n",
    "        ti_p = knot_vector[knot_number + degree] \n",
    "        ti_p1 = knot_vector[knot_number + degree + 1]\n",
    "    \n",
    "        b_spline_formula_basic = f\"({x} - {ti}) / ({ti_p} - {ti}) * {Bip_1} \" + \\\n",
    "            f\"+ ({ti_p1} - {x})/({ti_p1} - {ti_p}) * {Bi1p_1}\"\n",
    "    return range_str, b_spline_formula , b_spline_formula_basic\n",
    "\n"
   ]
  },
  {
   "cell_type": "code",
   "execution_count": 74,
   "metadata": {},
   "outputs": [
    {
     "name": "stdout",
     "output_type": "stream",
     "text": [
      "-------------------------------------------------------------------------------------\n",
      "B-spline formula for degree 0:\n",
      "Degree: 0, Knot Number: 0\n",
      "Range condition: 0 <= x < 1\n",
      "B-spline formula basic: 1\n",
      "Degree: 0, Knot Number: 1\n",
      "Range condition: 1 <= x < 2\n",
      "B-spline formula basic: 1\n",
      "Degree: 0, Knot Number: 2\n",
      "Range condition: 2 <= x < 3\n",
      "B-spline formula basic: 1\n",
      "Degree: 0, Knot Number: 3\n",
      "Range condition: 3 <= x < 4\n",
      "B-spline formula basic: 1\n",
      "Degree: 0, Knot Number: 4\n",
      "Range condition: 4 <= x < 5\n",
      "B-spline formula basic: 1\n"
     ]
    }
   ],
   "source": [
    "\n",
    "print(\"-------------------------------------------------------------------------------------\")\n",
    "print(\"B-spline formula for degree 0:\")\n",
    "degree=0\n",
    "for knot_number in range(len(knot_vector) - 1):\n",
    "    print(f\"Degree: {degree}, Knot Number: {knot_number}\")\n",
    "    b_range_str , b_spline_formula_str , b_spline_formula_basic = Bstr(degree, knot_vector, knot_number)\n",
    "    print(f\"Range condition: {b_range_str}\")\n",
    "    #print(f\"B-spline formula: {b_spline_formula_str}\")\n",
    "    print(f\"B-spline formula basic: {b_spline_formula_basic}\")\n",
    "\n"
   ]
  },
  {
   "cell_type": "code",
   "execution_count": 76,
   "metadata": {},
   "outputs": [
    {
     "name": "stdout",
     "output_type": "stream",
     "text": [
      "-------------------------------------------------------------------------------------\n",
      "B-spline formula for degree 0:\n",
      "Degree: 2, Knot Number: 0\n",
      "Range condition: 0 <= x < 1\n",
      "B-spline formula basic: (x - 0) / (2 - 0) * (x - 0) / (1 - 0) * 1 + (2 - x)/(2 - 1) * 1 + (3 - x)/(3 - 2) * (x - 1) / (2 - 1) * 1 + (3 - x)/(3 - 2) * 1\n",
      "Degree: 2, Knot Number: 1\n",
      "Range condition: 1 <= x < 2\n",
      "B-spline formula basic: (x - 1) / (3 - 1) * (x - 1) / (2 - 1) * 1 + (3 - x)/(3 - 2) * 1 + (4 - x)/(4 - 3) * (x - 2) / (3 - 2) * 1 + (4 - x)/(4 - 3) * 1\n",
      "Degree: 2, Knot Number: 2\n",
      "Range condition: 2 <= x < 3\n",
      "B-spline formula basic: (x - 2) / (4 - 2) * (x - 2) / (3 - 2) * 1 + (4 - x)/(4 - 3) * 1 + (5 - x)/(5 - 4) * (x - 3) / (4 - 3) * 1 + (5 - x)/(5 - 4) * 1\n"
     ]
    }
   ],
   "source": [
    "print(\"-------------------------------------------------------------------------------------\")\n",
    "degree=2\n",
    "print(\"B-spline formula for degree 0:\")\n",
    "for knot_number in range(len(knot_vector) - 1-degree):\n",
    "    print(f\"Degree: {degree}, Knot Number: {knot_number}\")\n",
    "    b_range_str , b_spline_formula_str , b_spline_formula_basic = Bstr(degree, knot_vector, knot_number)\n",
    "    print(f\"Range condition: {b_range_str}\")\n",
    "    print(f\"B-spline formula basic: {b_spline_formula_basic}\")\n",
    "     "
   ]
  },
  {
   "cell_type": "code",
   "execution_count": 72,
   "metadata": {},
   "outputs": [
    {
     "name": "stdout",
     "output_type": "stream",
     "text": [
      "x - 1\n",
      "LaTeX formula: x - 1\n"
     ]
    },
    {
     "data": {
      "text/latex": [
       "$\\displaystyle x - 1$"
      ],
      "text/plain": [
       "<IPython.core.display.Math object>"
      ]
     },
     "metadata": {},
     "output_type": "display_data"
    }
   ],
   "source": [
    "from sympy import symbols, latex\n",
    "\n",
    "# Example symbolic variables\n",
    "x = symbols('x')\n",
    "\n",
    "# Assuming `b_spline_formula_basic` is a symbolic expression\n",
    "# Replace this with the actual symbolic expression for your B-spline\n",
    "b_spline_formula_basic = (x - 1)*(2 - 1)  # Example formula\n",
    "print(b_spline_formula_basic)\n",
    "# Generate the LaTeX formula\n",
    "latex_formula = latex(b_spline_formula_basic)\n",
    "\n",
    "# Print the LaTeX formula\n",
    "print(f\"LaTeX formula: {latex_formula}\")\n",
    "\n",
    "# If you want to display it in a Jupyter Notebook:\n",
    "from IPython.display import display, Math\n",
    "display(Math(latex_formula))"
   ]
  },
  {
   "cell_type": "code",
   "execution_count": null,
   "metadata": {},
   "outputs": [],
   "source": [
    "def deboor_bspline(k,n , t, p):\n",
    "    \"\"\"\n",
    "    De Boor's algorithm for B-spline evaluation.\n",
    "    \n",
    "    Parameters:\n",
    "        k (int): Degree of the B-spline.\n",
    "        n (int): Number of control points.\n",
    "        t (array): Knot vector.\n",
    "        p (array): Control points.\n",
    "        \n",
    "    Returns:\n",
    "        array: Evaluated B-spline at the given knot vector.\n",
    "    \"\"\"\n",
    "    # Find the knot span index\n",
    "    if t[k] <= t[0]:\n",
    "        return p[0]\n",
    "    if t[n] >= t[n - 1]:\n",
    "        return p[n - 1]\n",
    "\n",
    "    # Find the knot span index\n",
    "    i = np.searchsorted(t, t[k], side='right') - 1\n",
    "\n",
    "    # Initialize the de Boor's algorithm\n",
    "    d = np.array(p[i - k:i + 1])\n",
    "\n",
    "    for r in range(1, k + 1):\n",
    "        alpha = (t[i + 1] - t[i]) / (t[i + r] - t[i])\n",
    "        d[0:r + 1] = (1.0 - alpha) * d[0:r + 1] + alpha * d[1:r + 2]\n",
    "\n",
    "    return d[k]\n"
   ]
  }
 ],
 "metadata": {
  "kernelspec": {
   "display_name": "base",
   "language": "python",
   "name": "python3"
  },
  "language_info": {
   "codemirror_mode": {
    "name": "ipython",
    "version": 3
   },
   "file_extension": ".py",
   "mimetype": "text/x-python",
   "name": "python",
   "nbconvert_exporter": "python",
   "pygments_lexer": "ipython3",
   "version": "3.12.7"
  }
 },
 "nbformat": 4,
 "nbformat_minor": 2
}
